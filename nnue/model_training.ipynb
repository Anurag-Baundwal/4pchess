{
 "cells": [
  {
   "cell_type": "code",
   "execution_count": 1,
   "id": "08137fc1",
   "metadata": {},
   "outputs": [],
   "source": [
    "# NOTE: You will need to update this to the directory where you\n",
    "# generate data.\n",
    "DATA_BASE_DIR = '../data_depth8*'\n",
    "# Update this to where you want to save the trained model.\n",
    "MODEL_SAVE_DIR = '../models'"
   ]
  },
  {
   "cell_type": "code",
   "execution_count": 3,
   "id": "bb761b81",
   "metadata": {
    "scrolled": true
   },
   "outputs": [],
   "source": [
    "import tensorflow as tf\n",
    "import numpy as np\n",
    "import os\n",
    "import matplotlib.pyplot as plt\n",
    "import glob\n",
    "import gc\n",
    "import time"
   ]
  },
  {
   "cell_type": "code",
   "execution_count": 4,
   "id": "a1c553f7",
   "metadata": {},
   "outputs": [],
   "source": [
    "def load_np(filepath):\n",
    "    with open(filepath) as f:\n",
    "        array = []\n",
    "        for line in f:\n",
    "            parts = line.split(',')\n",
    "            array.append([int(x) for x in parts])\n",
    "        return np.array(array, dtype=np.int32)\n",
    "\n",
    "def load_files(filepattern):\n",
    "    filepaths = sorted(glob.glob(filepattern))\n",
    "    np_data = []\n",
    "    for filepath in filepaths:\n",
    "        # np_data.append(np.genfromtxt(filepath, delimiter=','))\n",
    "        np_data.append(load_np(filepath))\n",
    "    np_data = np.concatenate(np_data, axis=0)\n",
    "    return np_data"
   ]
  },
  {
   "cell_type": "code",
   "execution_count": 5,
   "id": "b193e2c4",
   "metadata": {
    "scrolled": true
   },
   "outputs": [
    {
     "name": "stdout",
     "output_type": "stream",
     "text": [
      "board shape: (2300044, 784)\n",
      "score shape: (2300044, 1)\n",
      "per-depth score shape: (2300044, 9)\n",
      "data-loading duration(sec): 247.65\n"
     ]
    }
   ],
   "source": [
    "start = time.time()\n",
    "\n",
    "#result_np = load_files(os.path.join(DATA_BASE_DIR, 'result*.csv')).astype(np.int32)\n",
    "board_np = load_files(os.path.join(DATA_BASE_DIR, 'board*.csv')).astype(np.int32)\n",
    "per_depth_score_np = load_files(os.path.join(DATA_BASE_DIR, 'per_depth_score*.csv')).astype(np.int32)\n",
    "score_np = load_files(os.path.join(DATA_BASE_DIR, 'score*.csv')).astype(np.int32)\n",
    "\n",
    "print('board shape:', board_np.shape)\n",
    "print('score shape:', score_np.shape)\n",
    "print('per-depth score shape:', per_depth_score_np.shape)\n",
    "#print('result shape:', result_np.shape)\n",
    "assert board_np.shape[0] == score_np.shape[0]\n",
    "assert board_np.shape[0] == per_depth_score_np.shape[0]\n",
    "#assert board_np.shape[0] == result_np.shape[0]\n",
    "\n",
    "duration = time.time() - start\n",
    "print(f'data-loading duration(sec): {duration:.02f}')"
   ]
  },
  {
   "cell_type": "code",
   "execution_count": 26,
   "id": "b678049d",
   "metadata": {},
   "outputs": [],
   "source": [
    "score_np = score_np.reshape((-1))"
   ]
  },
  {
   "cell_type": "code",
   "execution_count": 27,
   "id": "166b3f1a",
   "metadata": {
    "scrolled": true
   },
   "outputs": [],
   "source": [
    "# Scores are in centipawns\n",
    "# A score of 10000 should be mostly winning (~90%)\n",
    "def convert_scores_to_probs(scores):\n",
    "    denom = -10 / np.log(1/.9 - 1)\n",
    "    score = scores / 100 / denom\n",
    "    return tf.math.sigmoid(score).numpy()\n",
    "\n",
    "probs = convert_scores_to_probs(score_np)\n",
    "per_depth_probs = [convert_scores_to_probs(per_depth_score_np[:, i])\n",
    "                   for i in range(per_depth_score_np.shape[1])]"
   ]
  },
  {
   "cell_type": "code",
   "execution_count": 28,
   "id": "86d34766",
   "metadata": {},
   "outputs": [],
   "source": [
    "def convert_probs_to_scores(probs):\n",
    "    epsilon = 1e-8\n",
    "    prob = np.maximum(epsilon, np.minimum(1-epsilon, probs))\n",
    "    d = -10 / np.log(1/.9-1)\n",
    "    return 100 * d * np.log(prob/(1-prob))"
   ]
  },
  {
   "cell_type": "code",
   "execution_count": 29,
   "id": "8f7f6be8",
   "metadata": {},
   "outputs": [],
   "source": [
    "a = score_np.reshape((-1,))\n",
    "b = per_depth_score_np[:,-1].reshape((-1,))\n",
    "# Sanity check: is the data loaded properly?\n",
    "# If this fails, the file orders for each data type are probably mismatched.\n",
    "assert np.sum(a != b) == 0"
   ]
  },
  {
   "cell_type": "code",
   "execution_count": 30,
   "id": "ecb4fbca",
   "metadata": {},
   "outputs": [
    {
     "name": "stdout",
     "output_type": "stream",
     "text": [
      "depth: 0 mae: 0.28384303563751756\n",
      "depth: 1 mae: 0.07378578181600966\n",
      "depth: 2 mae: 0.05239102100490112\n",
      "depth: 3 mae: 0.04703152800400904\n",
      "depth: 4 mae: 0.03499592236904613\n",
      "depth: 5 mae: 0.03166828005952728\n",
      "depth: 6 mae: 0.026203418926581987\n",
      "depth: 7 mae: 0.022095589687701395\n",
      "depth: 8 mae: 0.0\n"
     ]
    }
   ],
   "source": [
    "def mae(x, y):\n",
    "    return np.mean(np.abs(x - y))\n",
    "\n",
    "# Ideally the trained neural network will get MAE lower than\n",
    "# one of the below from actual search on each depth.\n",
    "for i in range(len(per_depth_probs)):\n",
    "    print('depth:', i, 'mae:', mae(per_depth_probs[i], probs))"
   ]
  },
  {
   "cell_type": "code",
   "execution_count": 31,
   "id": "0db2c1dd",
   "metadata": {},
   "outputs": [],
   "source": [
    "inputs = board_np.reshape((-1, 4, 14*14))\n",
    "\n",
    "# # Weight the final game result and the search score together to\n",
    "# # create a target (still in [0, 1]).\n",
    "# result_prob = (result_np + 1) / 2.0\n",
    "# assert np.amin(result_prob) >= 0\n",
    "# assert np.amax(result_prob) <= 1\n",
    "# targets = 1.0 * probs + 0.0 * result_prob\n",
    "\n",
    "targets = probs"
   ]
  },
  {
   "cell_type": "code",
   "execution_count": 33,
   "id": "ad428955",
   "metadata": {
    "scrolled": false
   },
   "outputs": [
    {
     "data": {
      "image/png": "[encoded data removed]",
      "text/plain": [
       "<Figure size 1000x300 with 3 Axes>"
      ]
     },
     "metadata": {},
     "output_type": "display_data"
    }
   ],
   "source": [
    "fig, ax = plt.subplots(1, 3, figsize=(10, 3))\n",
    "\n",
    "ax[0].hist(probs)\n",
    "ax[0].set_title('Probs')\n",
    "# ax[1].hist(result_np)\n",
    "# ax[1].set_title('Game Results')\n",
    "ax[2].hist(targets)\n",
    "ax[2].set_title('Targets')\n",
    "\n",
    "plt.tight_layout()\n",
    "plt.show()"
   ]
  },
  {
   "cell_type": "code",
   "execution_count": 34,
   "id": "eeb86ef1",
   "metadata": {},
   "outputs": [
    {
     "name": "stdout",
     "output_type": "stream",
     "text": [
      "# Train: 2070039\n",
      "# Val: 230005\n"
     ]
    }
   ],
   "source": [
    "size = board_np.shape[0]\n",
    "\n",
    "num_train = int(.9 * size)\n",
    "inputs_train = inputs[:num_train]\n",
    "targets_train = targets[:num_train]\n",
    "\n",
    "inputs_val = inputs[num_train:]\n",
    "targets_val = targets[num_train:]\n",
    "print('# Train:', num_train)\n",
    "print('# Val:', size - num_train)"
   ]
  },
  {
   "cell_type": "code",
   "execution_count": 35,
   "id": "5ff53a23",
   "metadata": {
    "scrolled": false
   },
   "outputs": [
    {
     "name": "stdout",
     "output_type": "stream",
     "text": [
      "Model: \"sequential\"\n",
      "_________________________________________________________________\n",
      " Layer (type)                Output Shape              Param #   \n",
      "=================================================================\n",
      " lambda (Lambda)             (None, 4, 1372)           0         \n",
      "                                                                 \n",
      " dense (Dense)               (None, 4, 32)             43936     \n",
      "                                                                 \n",
      " flatten (Flatten)           (None, 128)               0         \n",
      "                                                                 \n",
      " dense_1 (Dense)             (None, 32)                4128      \n",
      "                                                                 \n",
      " dense_2 (Dense)             (None, 32)                1056      \n",
      "                                                                 \n",
      " dense_3 (Dense)             (None, 1)                 33        \n",
      "                                                                 \n",
      "=================================================================\n",
      "Total params: 49,153\n",
      "Trainable params: 49,153\n",
      "Non-trainable params: 0\n",
      "_________________________________________________________________\n"
     ]
    }
   ],
   "source": [
    "def one_hot_layer(x):\n",
    "    y = tf.one_hot(x, 7)\n",
    "    y = tf.where(tf.expand_dims(x, -1) != 0, y, 0)\n",
    "    return tf.reshape(y, (-1, 4, 14*14*7))\n",
    "\n",
    "model = tf.keras.Sequential(layers=[\n",
    "  # (rows x cols,)\n",
    "  tf.keras.Input(shape=(4, 14*14), dtype=tf.int32),\n",
    "  tf.keras.layers.Lambda(one_hot_layer),\n",
    "  tf.keras.layers.Dense(32, activation='relu'),\n",
    "  tf.keras.layers.Flatten(),\n",
    "  tf.keras.layers.Dense(32, activation='relu'),\n",
    "  tf.keras.layers.Dense(32, activation='relu'),\n",
    "  tf.keras.layers.Dense(1),\n",
    "])\n",
    "model.compile(\n",
    "  optimizer='adam',\n",
    "  loss=tf.keras.losses.MeanSquaredError(),\n",
    "  metrics=[tf.keras.metrics.MeanAbsoluteError()])\n",
    "model.summary()"
   ]
  },
  {
   "cell_type": "code",
   "execution_count": 36,
   "id": "7ccb96c3",
   "metadata": {
    "scrolled": true
   },
   "outputs": [
    {
     "data": {
      "text/plain": [
       "9771"
      ]
     },
     "execution_count": 36,
     "metadata": {},
     "output_type": "execute_result"
    }
   ],
   "source": [
    "gc.collect()"
   ]
  },
  {
   "cell_type": "code",
   "execution_count": 37,
   "id": "49c76859",
   "metadata": {
    "scrolled": true
   },
   "outputs": [
    {
     "name": "stdout",
     "output_type": "stream",
     "text": [
      "Epoch 1/50\n"
     ]
    },
    {
     "name": "stderr",
     "output_type": "stream",
     "text": [
      "2023-06-08 22:17:52.266986: W tensorflow/tsl/framework/cpu_allocator_impl.cc:82] Allocation of 6491642304 exceeds 10% of free system memory.\n",
      "2023-06-08 22:17:56.825818: I tensorflow/compiler/xla/service/service.cc:173] XLA service 0x7f9f6c059d30 initialized for platform CUDA (this does not guarantee that XLA will be used). Devices:\n",
      "2023-06-08 22:17:56.825868: I tensorflow/compiler/xla/service/service.cc:181]   StreamExecutor device (0): NVIDIA GeForce GTX 1080 Ti, Compute Capability 6.1\n",
      "2023-06-08 22:17:56.825882: I tensorflow/compiler/xla/service/service.cc:181]   StreamExecutor device (1): NVIDIA GeForce GTX 1080 Ti, Compute Capability 6.1\n",
      "2023-06-08 22:17:56.838107: I tensorflow/compiler/mlir/tensorflow/utils/dump_mlir_util.cc:268] disabling MLIR crash reproducer, set env var `MLIR_CRASH_REPRODUCER_DIRECTORY` to enable.\n",
      "2023-06-08 22:17:57.008521: I tensorflow/compiler/jit/xla_compilation_cache.cc:477] Compiled cluster using XLA!  This line is logged at most once for the lifetime of the process.\n"
     ]
    },
    {
     "name": "stdout",
     "output_type": "stream",
     "text": [
      "1011/1011 [==============================] - 12s 10ms/step - loss: 0.0382 - mean_absolute_error: 0.1308 - val_loss: 0.0211 - val_mean_absolute_error: 0.0948\n",
      "Epoch 2/50\n",
      "1011/1011 [==============================] - 10s 10ms/step - loss: 0.0169 - mean_absolute_error: 0.0833 - val_loss: 0.0200 - val_mean_absolute_error: 0.0905\n",
      "Epoch 3/50\n",
      "1011/1011 [==============================] - 10s 10ms/step - loss: 0.0156 - mean_absolute_error: 0.0787 - val_loss: 0.0193 - val_mean_absolute_error: 0.0868\n",
      "Epoch 4/50\n",
      "1011/1011 [==============================] - 10s 10ms/step - loss: 0.0150 - mean_absolute_error: 0.0767 - val_loss: 0.0192 - val_mean_absolute_error: 0.0874\n",
      "Epoch 5/50\n",
      "1011/1011 [==============================] - 10s 9ms/step - loss: 0.0145 - mean_absolute_error: 0.0754 - val_loss: 0.0192 - val_mean_absolute_error: 0.0855\n",
      "Epoch 6/50\n",
      "1011/1011 [==============================] - 9s 9ms/step - loss: 0.0142 - mean_absolute_error: 0.0746 - val_loss: 0.0188 - val_mean_absolute_error: 0.0845\n",
      "Epoch 7/50\n",
      "1011/1011 [==============================] - 10s 10ms/step - loss: 0.0140 - mean_absolute_error: 0.0739 - val_loss: 0.0187 - val_mean_absolute_error: 0.0845\n",
      "Epoch 8/50\n",
      "1011/1011 [==============================] - 10s 10ms/step - loss: 0.0137 - mean_absolute_error: 0.0730 - val_loss: 0.0183 - val_mean_absolute_error: 0.0839\n",
      "Epoch 9/50\n",
      "1011/1011 [==============================] - 10s 10ms/step - loss: 0.0134 - mean_absolute_error: 0.0719 - val_loss: 0.0189 - val_mean_absolute_error: 0.0866\n",
      "Epoch 10/50\n",
      "1011/1011 [==============================] - 10s 10ms/step - loss: 0.0132 - mean_absolute_error: 0.0711 - val_loss: 0.0182 - val_mean_absolute_error: 0.0830\n",
      "Epoch 11/50\n",
      "1011/1011 [==============================] - 10s 10ms/step - loss: 0.0131 - mean_absolute_error: 0.0706 - val_loss: 0.0178 - val_mean_absolute_error: 0.0805\n",
      "Epoch 12/50\n",
      "1011/1011 [==============================] - 10s 10ms/step - loss: 0.0130 - mean_absolute_error: 0.0701 - val_loss: 0.0179 - val_mean_absolute_error: 0.0813\n",
      "Epoch 13/50\n",
      "1011/1011 [==============================] - 10s 10ms/step - loss: 0.0128 - mean_absolute_error: 0.0697 - val_loss: 0.0179 - val_mean_absolute_error: 0.0801\n",
      "Epoch 14/50\n",
      "1011/1011 [==============================] - 10s 10ms/step - loss: 0.0127 - mean_absolute_error: 0.0693 - val_loss: 0.0180 - val_mean_absolute_error: 0.0803\n",
      "Epoch 15/50\n",
      "1011/1011 [==============================] - 10s 9ms/step - loss: 0.0127 - mean_absolute_error: 0.0691 - val_loss: 0.0179 - val_mean_absolute_error: 0.0805\n",
      "Epoch 16/50\n",
      "1011/1011 [==============================] - 10s 10ms/step - loss: 0.0126 - mean_absolute_error: 0.0688 - val_loss: 0.0180 - val_mean_absolute_error: 0.0803\n",
      "Epoch 17/50\n",
      "1011/1011 [==============================] - 10s 10ms/step - loss: 0.0125 - mean_absolute_error: 0.0684 - val_loss: 0.0180 - val_mean_absolute_error: 0.0807\n",
      "Epoch 18/50\n",
      "1011/1011 [==============================] - 10s 9ms/step - loss: 0.0124 - mean_absolute_error: 0.0682 - val_loss: 0.0179 - val_mean_absolute_error: 0.0797\n",
      "Epoch 19/50\n",
      "1011/1011 [==============================] - 10s 10ms/step - loss: 0.0123 - mean_absolute_error: 0.0680 - val_loss: 0.0179 - val_mean_absolute_error: 0.0794\n",
      "Epoch 20/50\n",
      "1011/1011 [==============================] - 10s 10ms/step - loss: 0.0123 - mean_absolute_error: 0.0678 - val_loss: 0.0180 - val_mean_absolute_error: 0.0799\n",
      "Epoch 21/50\n",
      "1011/1011 [==============================] - 10s 10ms/step - loss: 0.0122 - mean_absolute_error: 0.0675 - val_loss: 0.0180 - val_mean_absolute_error: 0.0803\n",
      "Epoch 22/50\n",
      "1011/1011 [==============================] - 10s 10ms/step - loss: 0.0122 - mean_absolute_error: 0.0674 - val_loss: 0.0179 - val_mean_absolute_error: 0.0795\n",
      "Epoch 23/50\n",
      "1011/1011 [==============================] - 10s 10ms/step - loss: 0.0121 - mean_absolute_error: 0.0672 - val_loss: 0.0181 - val_mean_absolute_error: 0.0797\n",
      "Epoch 24/50\n",
      "1011/1011 [==============================] - 10s 10ms/step - loss: 0.0121 - mean_absolute_error: 0.0671 - val_loss: 0.0178 - val_mean_absolute_error: 0.0785\n",
      "Epoch 25/50\n",
      "1011/1011 [==============================] - 10s 10ms/step - loss: 0.0120 - mean_absolute_error: 0.0668 - val_loss: 0.0178 - val_mean_absolute_error: 0.0787\n",
      "Epoch 26/50\n",
      "1011/1011 [==============================] - 10s 10ms/step - loss: 0.0120 - mean_absolute_error: 0.0668 - val_loss: 0.0180 - val_mean_absolute_error: 0.0791\n",
      "Epoch 27/50\n",
      "1011/1011 [==============================] - 10s 10ms/step - loss: 0.0120 - mean_absolute_error: 0.0666 - val_loss: 0.0181 - val_mean_absolute_error: 0.0803\n",
      "Epoch 28/50\n",
      "1011/1011 [==============================] - 10s 10ms/step - loss: 0.0119 - mean_absolute_error: 0.0664 - val_loss: 0.0181 - val_mean_absolute_error: 0.0791\n",
      "Epoch 29/50\n",
      "1011/1011 [==============================] - 10s 10ms/step - loss: 0.0119 - mean_absolute_error: 0.0663 - val_loss: 0.0180 - val_mean_absolute_error: 0.0783\n",
      "Epoch 30/50\n",
      "1011/1011 [==============================] - 10s 10ms/step - loss: 0.0118 - mean_absolute_error: 0.0662 - val_loss: 0.0181 - val_mean_absolute_error: 0.0791\n",
      "Epoch 31/50\n",
      "1011/1011 [==============================] - 10s 10ms/step - loss: 0.0118 - mean_absolute_error: 0.0661 - val_loss: 0.0181 - val_mean_absolute_error: 0.0782\n",
      "Epoch 32/50\n",
      "1011/1011 [==============================] - 10s 10ms/step - loss: 0.0118 - mean_absolute_error: 0.0660 - val_loss: 0.0181 - val_mean_absolute_error: 0.0791\n",
      "Epoch 33/50\n",
      "1011/1011 [==============================] - 10s 10ms/step - loss: 0.0117 - mean_absolute_error: 0.0660 - val_loss: 0.0185 - val_mean_absolute_error: 0.0792\n",
      "Epoch 34/50\n",
      "1011/1011 [==============================] - 10s 9ms/step - loss: 0.0117 - mean_absolute_error: 0.0659 - val_loss: 0.0182 - val_mean_absolute_error: 0.0795\n",
      "Epoch 35/50\n",
      "1011/1011 [==============================] - 10s 9ms/step - loss: 0.0117 - mean_absolute_error: 0.0657 - val_loss: 0.0181 - val_mean_absolute_error: 0.0778\n",
      "Epoch 36/50\n",
      "1011/1011 [==============================] - 10s 10ms/step - loss: 0.0117 - mean_absolute_error: 0.0657 - val_loss: 0.0182 - val_mean_absolute_error: 0.0788\n",
      "Epoch 37/50\n",
      "1011/1011 [==============================] - 10s 10ms/step - loss: 0.0116 - mean_absolute_error: 0.0656 - val_loss: 0.0181 - val_mean_absolute_error: 0.0785\n",
      "Epoch 38/50\n",
      "1011/1011 [==============================] - 10s 10ms/step - loss: 0.0116 - mean_absolute_error: 0.0655 - val_loss: 0.0180 - val_mean_absolute_error: 0.0785\n",
      "Epoch 39/50\n",
      "1011/1011 [==============================] - 10s 10ms/step - loss: 0.0116 - mean_absolute_error: 0.0655 - val_loss: 0.0184 - val_mean_absolute_error: 0.0793\n",
      "Epoch 40/50\n",
      "1011/1011 [==============================] - 10s 10ms/step - loss: 0.0116 - mean_absolute_error: 0.0655 - val_loss: 0.0180 - val_mean_absolute_error: 0.0775\n",
      "Epoch 41/50\n",
      "1011/1011 [==============================] - 10s 10ms/step - loss: 0.0115 - mean_absolute_error: 0.0653 - val_loss: 0.0183 - val_mean_absolute_error: 0.0801\n",
      "Epoch 42/50\n",
      "1011/1011 [==============================] - 10s 10ms/step - loss: 0.0115 - mean_absolute_error: 0.0653 - val_loss: 0.0180 - val_mean_absolute_error: 0.0782\n",
      "Epoch 43/50\n",
      "1011/1011 [==============================] - 10s 10ms/step - loss: 0.0115 - mean_absolute_error: 0.0653 - val_loss: 0.0184 - val_mean_absolute_error: 0.0802\n",
      "Epoch 44/50\n",
      "1011/1011 [==============================] - 10s 10ms/step - loss: 0.0115 - mean_absolute_error: 0.0652 - val_loss: 0.0181 - val_mean_absolute_error: 0.0787\n",
      "Epoch 45/50\n",
      "1011/1011 [==============================] - 10s 10ms/step - loss: 0.0115 - mean_absolute_error: 0.0650 - val_loss: 0.0182 - val_mean_absolute_error: 0.0789\n",
      "Epoch 46/50\n",
      "1011/1011 [==============================] - 10s 10ms/step - loss: 0.0115 - mean_absolute_error: 0.0651 - val_loss: 0.0183 - val_mean_absolute_error: 0.0789\n",
      "Epoch 47/50\n",
      "1011/1011 [==============================] - 10s 10ms/step - loss: 0.0115 - mean_absolute_error: 0.0651 - val_loss: 0.0187 - val_mean_absolute_error: 0.0812\n",
      "Epoch 48/50\n",
      "1011/1011 [==============================] - 10s 10ms/step - loss: 0.0114 - mean_absolute_error: 0.0650 - val_loss: 0.0181 - val_mean_absolute_error: 0.0784\n",
      "Epoch 49/50\n"
     ]
    },
    {
     "name": "stdout",
     "output_type": "stream",
     "text": [
      "1011/1011 [==============================] - 10s 10ms/step - loss: 0.0114 - mean_absolute_error: 0.0649 - val_loss: 0.0183 - val_mean_absolute_error: 0.0782\n",
      "Epoch 50/50\n",
      "1011/1011 [==============================] - 10s 10ms/step - loss: 0.0114 - mean_absolute_error: 0.0649 - val_loss: 0.0185 - val_mean_absolute_error: 0.0790\n"
     ]
    }
   ],
   "source": [
    "history = model.fit(inputs_train, targets_train, epochs=50,\n",
    "                    validation_data=(inputs_val, targets_val),\n",
    "                    batch_size=2048,\n",
    "                    verbose=1)"
   ]
  },
  {
   "cell_type": "code",
   "execution_count": 38,
   "id": "ec24d968",
   "metadata": {},
   "outputs": [
    {
     "name": "stdout",
     "output_type": "stream",
     "text": [
      "MAE: 0.0649096891283989\n",
      "Val MAE: 0.07896231859922409\n"
     ]
    }
   ],
   "source": [
    "print('MAE:', history.history['mean_absolute_error'][-1])\n",
    "print('Val MAE:', history.history['val_mean_absolute_error'][-1])"
   ]
  },
  {
   "cell_type": "code",
   "execution_count": 39,
   "id": "c300d682",
   "metadata": {},
   "outputs": [
    {
     "data": {
      "image/png": "[encoded data removed]",
      "text/plain": [
       "<Figure size 800x800 with 4 Axes>"
      ]
     },
     "metadata": {},
     "output_type": "display_data"
    }
   ],
   "source": [
    "def LinePlot(ax, title, values):\n",
    "    ax.plot(1 + np.arange(len(values)), values)\n",
    "    ax.set_title(title)\n",
    "    ax.set_xlabel('Epoch')\n",
    "\n",
    "fig, ax = plt.subplots(2, 2, figsize=(8, 8))\n",
    "LinePlot(ax[0, 0], 'Loss', history.history['loss'])\n",
    "LinePlot(ax[0, 1], 'Val Loss', history.history['val_loss'])\n",
    "LinePlot(ax[1, 0], 'MAE', history.history['mean_absolute_error'])\n",
    "LinePlot(ax[1, 1], 'Val MAE', history.history['val_mean_absolute_error'])\n",
    "fig.tight_layout()"
   ]
  },
  {
   "cell_type": "code",
   "execution_count": 40,
   "id": "a7e78679",
   "metadata": {},
   "outputs": [],
   "source": [
    "model.save(os.path.join(MODEL_SAVE_DIR, 'nnue.h5'), save_format='h5')"
   ]
  },
  {
   "cell_type": "code",
   "execution_count": 41,
   "id": "38c295c8",
   "metadata": {},
   "outputs": [],
   "source": [
    "#model.load_weights('../models/nnue.h5')"
   ]
  },
  {
   "cell_type": "code",
   "execution_count": 42,
   "id": "6f57614d",
   "metadata": {},
   "outputs": [],
   "source": [
    "# Save the weights to CSV.\n",
    "# Ideally we would save them to a more performant file format like h5,\n",
    "# however reading h5 in C++ requires extra libraries.\n",
    "\n",
    "output_dir = MODEL_SAVE_DIR\n",
    "\n",
    "def save_weights(filename, np_arr):\n",
    "    full_filepath = os.path.join(output_dir, filename)\n",
    "    if os.path.exists(full_filepath):\n",
    "        os.remove(full_filepath)\n",
    "    with open(full_filepath, 'wt') as f:\n",
    "        f.write(','.join([str(float(x)) for x in np_arr]))\n",
    "\n",
    "dense_layers = [x for x in model.layers if isinstance(x, tf.keras.layers.Dense)]\n",
    "for i, layer in enumerate(dense_layers):\n",
    "    kernel, bias = layer.weights\n",
    "    assert 'kernel' in kernel.name\n",
    "    assert 'bias' in bias.name\n",
    "    save_weights(f'layer_{i}.kernel', kernel.numpy().reshape(-1))\n",
    "    save_weights(f'layer_{i}.bias', bias.numpy().reshape(-1))"
   ]
  },
  {
   "cell_type": "code",
   "execution_count": 43,
   "id": "bf1e5746",
   "metadata": {},
   "outputs": [
    {
     "data": {
      "text/plain": [
       "240"
      ]
     },
     "execution_count": 43,
     "metadata": {},
     "output_type": "execute_result"
    }
   ],
   "source": [
    "score_np[0]"
   ]
  },
  {
   "cell_type": "code",
   "execution_count": 44,
   "id": "834e4ff3",
   "metadata": {
    "scrolled": true
   },
   "outputs": [
    {
     "data": {
      "text/plain": [
       "array([  0,  70,   0, 240,   5, 270, 170, 215, 240], dtype=int32)"
      ]
     },
     "execution_count": 44,
     "metadata": {},
     "output_type": "execute_result"
    }
   ],
   "source": [
    "per_depth_score_np[0]"
   ]
  },
  {
   "cell_type": "code",
   "execution_count": 45,
   "id": "b7078c9a",
   "metadata": {
    "scrolled": false
   },
   "outputs": [
    {
     "name": "stdout",
     "output_type": "stream",
     "text": [
      "prob 0.5303719 score 55.35955337141475\n"
     ]
    }
   ],
   "source": [
    "# Run model on single example\n",
    "prob = model(board_np[0])[0][0].numpy()\n",
    "score = convert_probs_to_scores(prob)\n",
    "print('prob', prob, 'score', score)"
   ]
  },
  {
   "cell_type": "code",
   "execution_count": 47,
   "id": "345a9aad",
   "metadata": {},
   "outputs": [
    {
     "name": "stdout",
     "output_type": "stream",
     "text": [
      "Train:\n",
      "338.7627694058913\n",
      "Validation:\n",
      "393.5900396603712\n"
     ]
    }
   ],
   "source": [
    "# How well do the model scores predict the actual (last-depth) score?\n",
    "\n",
    "brd_train = board_np[:num_train]\n",
    "scr_train = score_np[:num_train]\n",
    "\n",
    "# Filter out positions that are won/lost\n",
    "fltr = np.abs(scr_train) < np.max(score_np)\n",
    "brd_f = brd_train[fltr]\n",
    "scr_f = scr_train[fltr]\n",
    "\n",
    "# Run model on `limit` samples\n",
    "pred_scores = []\n",
    "limit = min(10000, brd_f.shape[0])\n",
    "for i in range(limit):\n",
    "    pred_score = convert_probs_to_scores(model(brd_f[i]).numpy().reshape(1).item())\n",
    "    pred_scores.append(pred_score)\n",
    "pred_scores = np.array(pred_scores)\n",
    "\n",
    "print('Train:')\n",
    "print(np.mean(np.abs(scr_f[:limit] - pred_scores)))\n",
    "\n",
    "\n",
    "# Use validation data only\n",
    "brd_val = board_np[num_train:]\n",
    "scr_val = score_np[num_train:]\n",
    "\n",
    "# Filter out positions that are won/lost\n",
    "fltr = np.abs(scr_val) < np.max(score_np)\n",
    "brd_f = brd_val[fltr]\n",
    "scr_f = scr_val[fltr]\n",
    "\n",
    "# Run model on `limit` samples\n",
    "pred_scores = []\n",
    "limit = min(10000, brd_f.shape[0])\n",
    "for i in range(limit):\n",
    "    pred_score = convert_probs_to_scores(model(brd_f[i]).numpy().reshape(1).item())\n",
    "    pred_scores.append(pred_score)\n",
    "pred_scores = np.array(pred_scores)\n",
    "\n",
    "print('Validation:')\n",
    "print(np.mean(np.abs(scr_f[:limit] - pred_scores)))"
   ]
  },
  {
   "cell_type": "code",
   "execution_count": 48,
   "id": "3b031281",
   "metadata": {
    "scrolled": false
   },
   "outputs": [
    {
     "name": "stdout",
     "output_type": "stream",
     "text": [
      "depth: 0\n",
      "820.2410099393562\n",
      "depth: 1\n",
      "222.11756307953337\n",
      "depth: 2\n",
      "155.25568465975394\n",
      "depth: 3\n",
      "141.09300642372108\n",
      "depth: 4\n",
      "108.13557978343096\n",
      "depth: 5\n",
      "96.8339478285674\n",
      "depth: 6\n",
      "81.01059830627146\n",
      "depth: 7\n",
      "68.07659611316714\n",
      "depth: 8\n",
      "0.0\n"
     ]
    }
   ],
   "source": [
    "# How well do the per-depth scores predict the last-depth score?\n",
    "fltr = np.amax(np.abs(per_depth_score_np), axis=1) < np.max(score_np)\n",
    "pds = per_depth_score_np[fltr]\n",
    "for i in range(pds.shape[1]):\n",
    "    print('depth:', i)\n",
    "    print(np.mean(np.abs(pds[:,i] - pds[:,-1])))"
   ]
  },
  {
   "cell_type": "code",
   "execution_count": null,
   "id": "765201e3",
   "metadata": {},
   "outputs": [],
   "source": []
  }
 ],
 "metadata": {
  "kernelspec": {
   "display_name": "Python 3 (ipykernel)",
   "language": "python",
   "name": "python3"
  },
  "language_info": {
   "codemirror_mode": {
    "name": "ipython",
    "version": 3
   },
   "file_extension": ".py",
   "mimetype": "text/x-python",
   "name": "python",
   "nbconvert_exporter": "python",
   "pygments_lexer": "ipython3",
   "version": "3.10.6"
  }
 },
 "nbformat": 4,
 "nbformat_minor": 5
}
