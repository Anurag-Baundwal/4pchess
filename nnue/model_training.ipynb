{
 "cells": [
  {
   "cell_type": "code",
   "execution_count": 33,
   "id": "08137fc1",
   "metadata": {},
   "outputs": [],
   "source": [
    "# NOTE: You will need to update this to the directory where you\n",
    "# generate data.\n",
    "DATA_BASE_DIR = '../data'\n",
    "# Update this to where you want to save the trained model.\n",
    "MODEL_SAVE_DIR = '../models_test'"
   ]
  },
  {
   "cell_type": "code",
   "execution_count": 10,
   "id": "bb761b81",
   "metadata": {
    "scrolled": true
   },
   "outputs": [],
   "source": [
    "import tensorflow as tf\n",
    "import numpy as np\n",
    "import os\n",
    "import matplotlib.pyplot as plt\n",
    "import glob\n",
    "import gc\n",
    "import time"
   ]
  },
  {
   "cell_type": "code",
   "execution_count": 11,
   "id": "e82f0dfd",
   "metadata": {},
   "outputs": [],
   "source": [
    "# batch_size = 30\n",
    "# filepaths = sorted(glob.glob('../data_depth8*/board*.csv'))\n",
    "# filepath = filepaths[0]\n",
    "# print(filepath)\n",
    "\n",
    "# column_names = [f'c{i}' for i in range(14*14*4)]\n",
    "# ds = tf.data.experimental.make_csv_dataset(\n",
    "#     filepath, shuffle=False, batch_size=batch_size,\n",
    "#     column_names=column_names)"
   ]
  },
  {
   "cell_type": "code",
   "execution_count": 12,
   "id": "a1c553f7",
   "metadata": {},
   "outputs": [],
   "source": [
    "def load_files(filepattern):\n",
    "    filepaths = sorted(glob.glob(filepattern))\n",
    "    np_data = []\n",
    "    for filepath in filepaths:\n",
    "        np_data.append(np.genfromtxt(filepath, delimiter=','))\n",
    "    np_data = np.concatenate(np_data, axis=0)\n",
    "    return np_data"
   ]
  },
  {
   "cell_type": "code",
   "execution_count": 15,
   "id": "b193e2c4",
   "metadata": {
    "scrolled": true
   },
   "outputs": [
    {
     "name": "stdout",
     "output_type": "stream",
     "text": [
      "board shape: (11421, 784)\n",
      "score shape: (11421,)\n",
      "per-depth score shape: (11421, 5)\n",
      "result shape: (11421,)\n",
      "data-loading duration(sec): 3.80\n"
     ]
    }
   ],
   "source": [
    "start = time.time()\n",
    "\n",
    "board_np = load_files(os.path.join(DATA_BASE_DIR, 'board*.csv')).astype(np.int32)\n",
    "per_depth_score_np = load_files(os.path.join(DATA_BASE_DIR, 'per_depth_score*.csv')).astype(np.int32)\n",
    "score_np = load_files(os.path.join(DATA_BASE_DIR, 'score*.csv')).astype(np.int32)\n",
    "result_np = load_files(os.path.join(DATA_BASE_DIR, 'game_result*.csv')).astype(np.int32)\n",
    "\n",
    "print('board shape:', board_np.shape)\n",
    "print('score shape:', score_np.shape)\n",
    "print('per-depth score shape:', per_depth_score_np.shape)\n",
    "print('result shape:', result_np.shape)\n",
    "assert board_np.shape[0] == score_np.shape[0]\n",
    "assert board_np.shape[0] == per_depth_score_np.shape[0]\n",
    "assert board_np.shape[0] == result_np.shape[0]\n",
    "\n",
    "duration = time.time() - start\n",
    "print(f'data-loading duration(sec): {duration:.02f}')"
   ]
  },
  {
   "cell_type": "code",
   "execution_count": 16,
   "id": "166b3f1a",
   "metadata": {
    "scrolled": true
   },
   "outputs": [],
   "source": [
    "# Scores are in centipawns\n",
    "# A score of 10000 should be mostly winning (~90%)\n",
    "def convert_scores_to_probs(scores):\n",
    "    denom = -10 / np.log(1/.9 - 1)\n",
    "    score = scores / 100 / denom\n",
    "    return tf.math.sigmoid(score).numpy()\n",
    "\n",
    "probs = convert_scores_to_probs(score_np)\n",
    "per_depth_probs = [convert_scores_to_probs(per_depth_score_np[:, i])\n",
    "                   for i in range(per_depth_score_np.shape[1])]"
   ]
  },
  {
   "cell_type": "code",
   "execution_count": 18,
   "id": "86d34766",
   "metadata": {},
   "outputs": [],
   "source": [
    "def convert_probs_to_scores(probs):\n",
    "    epsilon = 1e-8\n",
    "    prob = np.maximum(epsilon, np.minimum(1-epsilon, probs))\n",
    "    d = -10 / np.log(1/.9-1)\n",
    "    return 100 * d * np.log(prob/(1-prob))"
   ]
  },
  {
   "cell_type": "code",
   "execution_count": 20,
   "id": "8f7f6be8",
   "metadata": {},
   "outputs": [],
   "source": [
    "a = score_np\n",
    "b = per_depth_score_np[:,-1]\n",
    "# Sanity check: is the data loaded properly?\n",
    "# If this fails, the file orders for each data type are probably mismatched.\n",
    "assert np.sum(a != b) == 0"
   ]
  },
  {
   "cell_type": "code",
   "execution_count": 22,
   "id": "ecb4fbca",
   "metadata": {},
   "outputs": [
    {
     "name": "stdout",
     "output_type": "stream",
     "text": [
      "depth: 0 mae: 0.30240244845470676\n",
      "depth: 1 mae: 0.08128037561029564\n",
      "depth: 2 mae: 0.056995412259817635\n",
      "depth: 3 mae: 0.054975367245619536\n",
      "depth: 4 mae: 0.0\n"
     ]
    }
   ],
   "source": [
    "def mae(x, y):\n",
    "    return np.mean(np.abs(x - y))\n",
    "\n",
    "# Ideally the trained neural network will get MAE lower than\n",
    "# one of the below from actual search on each depth.\n",
    "for i in range(len(per_depth_probs)):\n",
    "    print('depth:', i, 'mae:', mae(per_depth_probs[i], probs))"
   ]
  },
  {
   "cell_type": "code",
   "execution_count": 27,
   "id": "0db2c1dd",
   "metadata": {},
   "outputs": [],
   "source": [
    "inputs = board_np.reshape((-1, 4, 14*14))\n",
    "# Weight the final game result and the search score together to\n",
    "# create a target (still in [0, 1]).\n",
    "result_prob = (result_np + 1) / 2.0\n",
    "assert np.amin(result_prob) >= 0\n",
    "assert np.amax(result_prob) <= 1\n",
    "targets = 0.5 * probs + 0.5 * result_prob"
   ]
  },
  {
   "cell_type": "code",
   "execution_count": 31,
   "id": "ad428955",
   "metadata": {
    "scrolled": false
   },
   "outputs": [
    {
     "data": {
      "image/png": "[encoded data removed]",
      "text/plain": [
       "<Figure size 1000x300 with 3 Axes>"
      ]
     },
     "metadata": {},
     "output_type": "display_data"
    }
   ],
   "source": [
    "fig, ax = plt.subplots(1, 3, figsize=(10, 3))\n",
    "\n",
    "ax[0].hist(probs)\n",
    "ax[0].set_title('Probs')\n",
    "ax[1].hist(result_np)\n",
    "ax[1].set_title('Game Results')\n",
    "ax[2].hist(targets)\n",
    "ax[2].set_title('Targets')\n",
    "\n",
    "plt.tight_layout()\n",
    "plt.show()"
   ]
  },
  {
   "cell_type": "code",
   "execution_count": 37,
   "id": "eeb86ef1",
   "metadata": {},
   "outputs": [
    {
     "name": "stdout",
     "output_type": "stream",
     "text": [
      "# Train: 10278\n",
      "# Val: 1143\n"
     ]
    }
   ],
   "source": [
    "size = board_np.shape[0]\n",
    "\n",
    "num_train = int(.9 * size)\n",
    "inputs_train = inputs[:num_train]\n",
    "targets_train = targets[:num_train]\n",
    "\n",
    "inputs_val = inputs[num_train:]\n",
    "targets_val = targets[num_train:]\n",
    "print('# Train:', num_train)\n",
    "print('# Val:', size - num_train)"
   ]
  },
  {
   "cell_type": "code",
   "execution_count": 38,
   "id": "5ff53a23",
   "metadata": {
    "scrolled": false
   },
   "outputs": [
    {
     "name": "stdout",
     "output_type": "stream",
     "text": [
      "Model: \"sequential\"\n",
      "_________________________________________________________________\n",
      " Layer (type)                Output Shape              Param #   \n",
      "=================================================================\n",
      " lambda (Lambda)             (None, 4, 1372)           0         \n",
      "                                                                 \n",
      " dense (Dense)               (None, 4, 32)             43936     \n",
      "                                                                 \n",
      " flatten (Flatten)           (None, 128)               0         \n",
      "                                                                 \n",
      " dense_1 (Dense)             (None, 32)                4128      \n",
      "                                                                 \n",
      " dense_2 (Dense)             (None, 32)                1056      \n",
      "                                                                 \n",
      " dense_3 (Dense)             (None, 1)                 33        \n",
      "                                                                 \n",
      "=================================================================\n",
      "Total params: 49,153\n",
      "Trainable params: 49,153\n",
      "Non-trainable params: 0\n",
      "_________________________________________________________________\n"
     ]
    }
   ],
   "source": [
    "def one_hot_layer(x):\n",
    "    y = tf.one_hot(x, 7)\n",
    "    y = tf.where(tf.expand_dims(x, -1) != 0, y, 0)\n",
    "    return tf.reshape(y, (-1, 4, 14*14*7))\n",
    "\n",
    "model = tf.keras.Sequential(layers=[\n",
    "  # (rows x cols,)\n",
    "  tf.keras.Input(shape=(4, 14*14), dtype=tf.int32),\n",
    "  tf.keras.layers.Lambda(one_hot_layer),\n",
    "  tf.keras.layers.Dense(32, activation='relu'),\n",
    "  tf.keras.layers.Flatten(),\n",
    "  tf.keras.layers.Dense(32, activation='relu'),\n",
    "  tf.keras.layers.Dense(32, activation='relu'),\n",
    "  tf.keras.layers.Dense(1),\n",
    "])\n",
    "model.compile(\n",
    "  optimizer='adam',\n",
    "  loss=tf.keras.losses.MeanSquaredError(),\n",
    "  metrics=[tf.keras.metrics.MeanAbsoluteError()])\n",
    "model.summary()"
   ]
  },
  {
   "cell_type": "code",
   "execution_count": 39,
   "id": "7ccb96c3",
   "metadata": {
    "scrolled": true
   },
   "outputs": [
    {
     "data": {
      "text/plain": [
       "10229"
      ]
     },
     "execution_count": 39,
     "metadata": {},
     "output_type": "execute_result"
    }
   ],
   "source": [
    "gc.collect()"
   ]
  },
  {
   "cell_type": "code",
   "execution_count": 40,
   "id": "49c76859",
   "metadata": {
    "scrolled": true
   },
   "outputs": [
    {
     "name": "stdout",
     "output_type": "stream",
     "text": [
      "Epoch 1/50\n"
     ]
    },
    {
     "name": "stderr",
     "output_type": "stream",
     "text": [
      "2023-05-30 21:32:28.883128: I tensorflow/compiler/xla/service/service.cc:173] XLA service 0x7f8ecfeecc50 initialized for platform CUDA (this does not guarantee that XLA will be used). Devices:\n",
      "2023-05-30 21:32:28.883158: I tensorflow/compiler/xla/service/service.cc:181]   StreamExecutor device (0): NVIDIA GeForce GTX 1080 Ti, Compute Capability 6.1\n",
      "2023-05-30 21:32:28.883163: I tensorflow/compiler/xla/service/service.cc:181]   StreamExecutor device (1): NVIDIA GeForce GTX 1080 Ti, Compute Capability 6.1\n",
      "2023-05-30 21:32:28.887314: I tensorflow/compiler/mlir/tensorflow/utils/dump_mlir_util.cc:268] disabling MLIR crash reproducer, set env var `MLIR_CRASH_REPRODUCER_DIRECTORY` to enable.\n",
      "2023-05-30 21:32:28.997858: I tensorflow/compiler/jit/xla_compilation_cache.cc:477] Compiled cluster using XLA!  This line is logged at most once for the lifetime of the process.\n"
     ]
    },
    {
     "name": "stdout",
     "output_type": "stream",
     "text": [
      "6/6 [==============================] - 2s 53ms/step - loss: 0.2485 - mean_absolute_error: 0.4071 - val_loss: 0.1593 - val_mean_absolute_error: 0.3309\n",
      "Epoch 2/50\n",
      "6/6 [==============================] - 0s 12ms/step - loss: 0.1223 - mean_absolute_error: 0.2975 - val_loss: 0.1234 - val_mean_absolute_error: 0.2970\n",
      "Epoch 3/50\n",
      "6/6 [==============================] - 0s 12ms/step - loss: 0.1058 - mean_absolute_error: 0.2697 - val_loss: 0.0943 - val_mean_absolute_error: 0.2662\n",
      "Epoch 4/50\n",
      "6/6 [==============================] - 0s 13ms/step - loss: 0.0757 - mean_absolute_error: 0.2359 - val_loss: 0.0902 - val_mean_absolute_error: 0.2557\n",
      "Epoch 5/50\n",
      "6/6 [==============================] - 0s 11ms/step - loss: 0.0630 - mean_absolute_error: 0.2108 - val_loss: 0.0778 - val_mean_absolute_error: 0.2344\n",
      "Epoch 6/50\n",
      "6/6 [==============================] - 0s 13ms/step - loss: 0.0479 - mean_absolute_error: 0.1808 - val_loss: 0.0681 - val_mean_absolute_error: 0.2168\n",
      "Epoch 7/50\n",
      "6/6 [==============================] - 0s 12ms/step - loss: 0.0393 - mean_absolute_error: 0.1607 - val_loss: 0.0605 - val_mean_absolute_error: 0.1956\n",
      "Epoch 8/50\n",
      "6/6 [==============================] - 0s 10ms/step - loss: 0.0326 - mean_absolute_error: 0.1385 - val_loss: 0.0555 - val_mean_absolute_error: 0.1803\n",
      "Epoch 9/50\n",
      "6/6 [==============================] - 0s 11ms/step - loss: 0.0278 - mean_absolute_error: 0.1256 - val_loss: 0.0518 - val_mean_absolute_error: 0.1706\n",
      "Epoch 10/50\n",
      "6/6 [==============================] - 0s 13ms/step - loss: 0.0243 - mean_absolute_error: 0.1162 - val_loss: 0.0504 - val_mean_absolute_error: 0.1639\n",
      "Epoch 11/50\n",
      "6/6 [==============================] - 0s 12ms/step - loss: 0.0212 - mean_absolute_error: 0.1060 - val_loss: 0.0497 - val_mean_absolute_error: 0.1598\n",
      "Epoch 12/50\n",
      "6/6 [==============================] - 0s 16ms/step - loss: 0.0193 - mean_absolute_error: 0.0995 - val_loss: 0.0477 - val_mean_absolute_error: 0.1529\n",
      "Epoch 13/50\n",
      "6/6 [==============================] - 0s 15ms/step - loss: 0.0173 - mean_absolute_error: 0.0929 - val_loss: 0.0463 - val_mean_absolute_error: 0.1486\n",
      "Epoch 14/50\n",
      "6/6 [==============================] - 0s 17ms/step - loss: 0.0160 - mean_absolute_error: 0.0875 - val_loss: 0.0463 - val_mean_absolute_error: 0.1449\n",
      "Epoch 15/50\n",
      "6/6 [==============================] - 0s 12ms/step - loss: 0.0150 - mean_absolute_error: 0.0833 - val_loss: 0.0439 - val_mean_absolute_error: 0.1400\n",
      "Epoch 16/50\n",
      "6/6 [==============================] - 0s 12ms/step - loss: 0.0146 - mean_absolute_error: 0.0827 - val_loss: 0.0442 - val_mean_absolute_error: 0.1382\n",
      "Epoch 17/50\n",
      "6/6 [==============================] - 0s 14ms/step - loss: 0.0134 - mean_absolute_error: 0.0779 - val_loss: 0.0455 - val_mean_absolute_error: 0.1380\n",
      "Epoch 18/50\n",
      "6/6 [==============================] - 0s 11ms/step - loss: 0.0127 - mean_absolute_error: 0.0752 - val_loss: 0.0443 - val_mean_absolute_error: 0.1347\n",
      "Epoch 19/50\n",
      "6/6 [==============================] - 0s 13ms/step - loss: 0.0121 - mean_absolute_error: 0.0727 - val_loss: 0.0450 - val_mean_absolute_error: 0.1346\n",
      "Epoch 20/50\n",
      "6/6 [==============================] - 0s 12ms/step - loss: 0.0117 - mean_absolute_error: 0.0708 - val_loss: 0.0431 - val_mean_absolute_error: 0.1314\n",
      "Epoch 21/50\n",
      "6/6 [==============================] - 0s 11ms/step - loss: 0.0115 - mean_absolute_error: 0.0706 - val_loss: 0.0459 - val_mean_absolute_error: 0.1343\n",
      "Epoch 22/50\n",
      "6/6 [==============================] - 0s 12ms/step - loss: 0.0113 - mean_absolute_error: 0.0690 - val_loss: 0.0425 - val_mean_absolute_error: 0.1285\n",
      "Epoch 23/50\n",
      "6/6 [==============================] - 0s 15ms/step - loss: 0.0109 - mean_absolute_error: 0.0678 - val_loss: 0.0447 - val_mean_absolute_error: 0.1294\n",
      "Epoch 24/50\n",
      "6/6 [==============================] - 0s 13ms/step - loss: 0.0104 - mean_absolute_error: 0.0642 - val_loss: 0.0432 - val_mean_absolute_error: 0.1266\n",
      "Epoch 25/50\n",
      "6/6 [==============================] - 0s 14ms/step - loss: 0.0099 - mean_absolute_error: 0.0631 - val_loss: 0.0454 - val_mean_absolute_error: 0.1285\n",
      "Epoch 26/50\n",
      "6/6 [==============================] - 0s 13ms/step - loss: 0.0099 - mean_absolute_error: 0.0614 - val_loss: 0.0430 - val_mean_absolute_error: 0.1251\n",
      "Epoch 27/50\n",
      "6/6 [==============================] - 0s 11ms/step - loss: 0.0095 - mean_absolute_error: 0.0614 - val_loss: 0.0446 - val_mean_absolute_error: 0.1256\n",
      "Epoch 28/50\n",
      "6/6 [==============================] - 0s 11ms/step - loss: 0.0091 - mean_absolute_error: 0.0583 - val_loss: 0.0431 - val_mean_absolute_error: 0.1235\n",
      "Epoch 29/50\n",
      "6/6 [==============================] - 0s 12ms/step - loss: 0.0093 - mean_absolute_error: 0.0591 - val_loss: 0.0456 - val_mean_absolute_error: 0.1263\n",
      "Epoch 30/50\n",
      "6/6 [==============================] - 0s 11ms/step - loss: 0.0089 - mean_absolute_error: 0.0575 - val_loss: 0.0427 - val_mean_absolute_error: 0.1220\n",
      "Epoch 31/50\n",
      "6/6 [==============================] - 0s 12ms/step - loss: 0.0086 - mean_absolute_error: 0.0561 - val_loss: 0.0441 - val_mean_absolute_error: 0.1227\n",
      "Epoch 32/50\n",
      "6/6 [==============================] - 0s 13ms/step - loss: 0.0084 - mean_absolute_error: 0.0548 - val_loss: 0.0440 - val_mean_absolute_error: 0.1225\n",
      "Epoch 33/50\n",
      "6/6 [==============================] - 0s 12ms/step - loss: 0.0083 - mean_absolute_error: 0.0543 - val_loss: 0.0450 - val_mean_absolute_error: 0.1240\n",
      "Epoch 34/50\n",
      "6/6 [==============================] - 0s 11ms/step - loss: 0.0082 - mean_absolute_error: 0.0548 - val_loss: 0.0431 - val_mean_absolute_error: 0.1198\n",
      "Epoch 35/50\n",
      "6/6 [==============================] - 0s 11ms/step - loss: 0.0080 - mean_absolute_error: 0.0529 - val_loss: 0.0459 - val_mean_absolute_error: 0.1231\n",
      "Epoch 36/50\n",
      "6/6 [==============================] - 0s 11ms/step - loss: 0.0081 - mean_absolute_error: 0.0523 - val_loss: 0.0424 - val_mean_absolute_error: 0.1194\n",
      "Epoch 37/50\n",
      "6/6 [==============================] - 0s 10ms/step - loss: 0.0079 - mean_absolute_error: 0.0525 - val_loss: 0.0465 - val_mean_absolute_error: 0.1228\n",
      "Epoch 38/50\n",
      "6/6 [==============================] - 0s 13ms/step - loss: 0.0076 - mean_absolute_error: 0.0507 - val_loss: 0.0442 - val_mean_absolute_error: 0.1185\n",
      "Epoch 39/50\n",
      "6/6 [==============================] - 0s 12ms/step - loss: 0.0076 - mean_absolute_error: 0.0502 - val_loss: 0.0429 - val_mean_absolute_error: 0.1185\n",
      "Epoch 40/50\n",
      "6/6 [==============================] - 0s 15ms/step - loss: 0.0080 - mean_absolute_error: 0.0536 - val_loss: 0.0469 - val_mean_absolute_error: 0.1234\n",
      "Epoch 41/50\n",
      "6/6 [==============================] - 0s 11ms/step - loss: 0.0075 - mean_absolute_error: 0.0506 - val_loss: 0.0445 - val_mean_absolute_error: 0.1186\n",
      "Epoch 42/50\n",
      "6/6 [==============================] - 0s 12ms/step - loss: 0.0074 - mean_absolute_error: 0.0490 - val_loss: 0.0436 - val_mean_absolute_error: 0.1175\n",
      "Epoch 43/50\n",
      "6/6 [==============================] - 0s 13ms/step - loss: 0.0074 - mean_absolute_error: 0.0498 - val_loss: 0.0446 - val_mean_absolute_error: 0.1172\n",
      "Epoch 44/50\n",
      "6/6 [==============================] - 0s 11ms/step - loss: 0.0071 - mean_absolute_error: 0.0484 - val_loss: 0.0450 - val_mean_absolute_error: 0.1186\n",
      "Epoch 45/50\n",
      "6/6 [==============================] - 0s 14ms/step - loss: 0.0072 - mean_absolute_error: 0.0484 - val_loss: 0.0447 - val_mean_absolute_error: 0.1170\n",
      "Epoch 46/50\n",
      "6/6 [==============================] - 0s 11ms/step - loss: 0.0069 - mean_absolute_error: 0.0465 - val_loss: 0.0430 - val_mean_absolute_error: 0.1160\n",
      "Epoch 47/50\n",
      "6/6 [==============================] - 0s 12ms/step - loss: 0.0069 - mean_absolute_error: 0.0470 - val_loss: 0.0459 - val_mean_absolute_error: 0.1184\n",
      "Epoch 48/50\n",
      "6/6 [==============================] - 0s 13ms/step - loss: 0.0069 - mean_absolute_error: 0.0460 - val_loss: 0.0427 - val_mean_absolute_error: 0.1138\n",
      "Epoch 49/50\n",
      "6/6 [==============================] - 0s 11ms/step - loss: 0.0069 - mean_absolute_error: 0.0467 - val_loss: 0.0476 - val_mean_absolute_error: 0.1226\n",
      "Epoch 50/50\n",
      "6/6 [==============================] - 0s 11ms/step - loss: 0.0072 - mean_absolute_error: 0.0477 - val_loss: 0.0421 - val_mean_absolute_error: 0.1163\n"
     ]
    }
   ],
   "source": [
    "history = model.fit(inputs_train, targets_train, epochs=50,\n",
    "                    validation_data=(inputs_val, targets_val),\n",
    "                    batch_size=2048,\n",
    "                    verbose=1)"
   ]
  },
  {
   "cell_type": "code",
   "execution_count": 41,
   "id": "ec24d968",
   "metadata": {},
   "outputs": [
    {
     "name": "stdout",
     "output_type": "stream",
     "text": [
      "MAE: 0.04773726314306259\n",
      "Val MAE: 0.1162852793931961\n"
     ]
    }
   ],
   "source": [
    "print('MAE:', history.history['mean_absolute_error'][-1])\n",
    "print('Val MAE:', history.history['val_mean_absolute_error'][-1])"
   ]
  },
  {
   "cell_type": "code",
   "execution_count": 42,
   "id": "c300d682",
   "metadata": {},
   "outputs": [
    {
     "data": {
      "image/png": "[encoded data removed]",
      "text/plain": [
       "<Figure size 800x800 with 4 Axes>"
      ]
     },
     "metadata": {},
     "output_type": "display_data"
    }
   ],
   "source": [
    "def LinePlot(ax, title, values):\n",
    "    ax.plot(1 + np.arange(len(values)), values)\n",
    "    ax.set_title(title)\n",
    "    ax.set_xlabel('Epoch')\n",
    "\n",
    "fig, ax = plt.subplots(2, 2, figsize=(8, 8))\n",
    "LinePlot(ax[0, 0], 'Loss', history.history['loss'])\n",
    "LinePlot(ax[0, 1], 'Val Loss', history.history['val_loss'])\n",
    "LinePlot(ax[1, 0], 'MAE', history.history['mean_absolute_error'])\n",
    "LinePlot(ax[1, 1], 'Val MAE', history.history['val_mean_absolute_error'])\n",
    "fig.tight_layout()"
   ]
  },
  {
   "cell_type": "code",
   "execution_count": 47,
   "id": "a7e78679",
   "metadata": {},
   "outputs": [],
   "source": [
    "model.save(os.path.join(MODEL_SAVE_DIR, 'nnue.h5'), save_format='h5')"
   ]
  },
  {
   "cell_type": "code",
   "execution_count": 48,
   "id": "38c295c8",
   "metadata": {},
   "outputs": [],
   "source": [
    "#model.load_weights('../models/nnue.h5')"
   ]
  },
  {
   "cell_type": "code",
   "execution_count": 49,
   "id": "6f57614d",
   "metadata": {},
   "outputs": [],
   "source": [
    "# Save the weights to CSV.\n",
    "# Ideally we would save them to a more performant file format like h5,\n",
    "# however reading h5 in C++ requires extra libraries.\n",
    "\n",
    "output_dir = MODEL_SAVE_DIR\n",
    "\n",
    "def save_weights(filename, np_arr):\n",
    "    full_filepath = os.path.join(output_dir, filename)\n",
    "    if os.path.exists(full_filepath):\n",
    "        os.remove(full_filepath)\n",
    "    with open(full_filepath, 'wt') as f:\n",
    "        f.write(','.join([str(float(x)) for x in np_arr]))\n",
    "\n",
    "dense_layers = [x for x in model.layers if isinstance(x, tf.keras.layers.Dense)]\n",
    "for i, layer in enumerate(dense_layers):\n",
    "    kernel, bias = layer.weights\n",
    "    assert 'kernel' in kernel.name\n",
    "    assert 'bias' in bias.name\n",
    "    save_weights(f'layer_{i}.kernel', kernel.numpy().reshape(-1))\n",
    "    save_weights(f'layer_{i}.bias', bias.numpy().reshape(-1))"
   ]
  },
  {
   "cell_type": "code",
   "execution_count": 50,
   "id": "bf1e5746",
   "metadata": {},
   "outputs": [
    {
     "data": {
      "text/plain": [
       "-327"
      ]
     },
     "execution_count": 50,
     "metadata": {},
     "output_type": "execute_result"
    }
   ],
   "source": [
    "score_np[0]"
   ]
  },
  {
   "cell_type": "code",
   "execution_count": 51,
   "id": "834e4ff3",
   "metadata": {
    "scrolled": true
   },
   "outputs": [
    {
     "data": {
      "text/plain": [
       "array([-428,  -60, -265,  -56, -327], dtype=int32)"
      ]
     },
     "execution_count": 51,
     "metadata": {},
     "output_type": "execute_result"
    }
   ],
   "source": [
    "per_depth_score_np[0]"
   ]
  },
  {
   "cell_type": "code",
   "execution_count": 52,
   "id": "b7078c9a",
   "metadata": {
    "scrolled": false
   },
   "outputs": [
    {
     "name": "stdout",
     "output_type": "stream",
     "text": [
      "prob 0.44371977 score -102.89296219829332\n"
     ]
    }
   ],
   "source": [
    "# Run model on single example\n",
    "prob = model(board_np[0])[0][0].numpy()\n",
    "score = convert_probs_to_scores(prob)\n",
    "print('prob', prob, 'score', score)"
   ]
  },
  {
   "cell_type": "code",
   "execution_count": 53,
   "id": "e6a68f1b",
   "metadata": {},
   "outputs": [
    {
     "data": {
      "text/plain": [
       "(11421, 784)"
      ]
     },
     "execution_count": 53,
     "metadata": {},
     "output_type": "execute_result"
    }
   ],
   "source": [
    "board_np.shape"
   ]
  },
  {
   "cell_type": "code",
   "execution_count": 54,
   "id": "345a9aad",
   "metadata": {},
   "outputs": [
    {
     "name": "stdout",
     "output_type": "stream",
     "text": [
      "1089.602644525937\n"
     ]
    }
   ],
   "source": [
    "# How well do the model scores predict the actual (last-depth) score?\n",
    "\n",
    "# Use validation data only\n",
    "brd_val = board_np[num_train:]\n",
    "scr_val = score_np[num_train:]\n",
    "\n",
    "# Filter out positions that are won/lost\n",
    "fltr = np.abs(scr_val) < np.max(score_np)\n",
    "brd_f = brd_val[fltr]\n",
    "scr_f = scr_val[fltr]\n",
    "\n",
    "# Run model on `limit` samples\n",
    "pred_scores = []\n",
    "limit = min(10000, brd_f.shape[0])\n",
    "for i in range(limit):\n",
    "    pred_score = convert_probs_to_scores(model(brd_f[i]).numpy().reshape(1).item())\n",
    "    pred_scores.append(pred_score)\n",
    "pred_scores = np.array(pred_scores)\n",
    "\n",
    "print(np.mean(np.abs(scr_f[:limit] - pred_scores)))"
   ]
  },
  {
   "cell_type": "code",
   "execution_count": 59,
   "id": "3b031281",
   "metadata": {
    "scrolled": false
   },
   "outputs": [
    {
     "name": "stdout",
     "output_type": "stream",
     "text": [
      "depth: 0\n",
      "23122995.31365697\n",
      "depth: 1\n",
      "256.46212693615416\n",
      "depth: 2\n",
      "185.39063090290895\n",
      "depth: 3\n",
      "183.5384397431054\n",
      "depth: 4\n",
      "0.0\n"
     ]
    }
   ],
   "source": [
    "# How well do the per-depth scores predict the last-depth score?\n",
    "fltr = np.amax(np.abs(per_depth_score_np), axis=1) < np.max(score_np)\n",
    "pds = per_depth_score_np[fltr]\n",
    "for i in range(pds.shape[1]):\n",
    "    print('depth:', i)\n",
    "    print(np.mean(np.abs(pds[:,i] - pds[:,-1])))"
   ]
  },
  {
   "cell_type": "code",
   "execution_count": null,
   "id": "7985c773",
   "metadata": {},
   "outputs": [],
   "source": []
  }
 ],
 "metadata": {
  "kernelspec": {
   "display_name": "Python 3 (ipykernel)",
   "language": "python",
   "name": "python3"
  },
  "language_info": {
   "codemirror_mode": {
    "name": "ipython",
    "version": 3
   },
   "file_extension": ".py",
   "mimetype": "text/x-python",
   "name": "python",
   "nbconvert_exporter": "python",
   "pygments_lexer": "ipython3",
   "version": "3.10.4"
  }
 },
 "nbformat": 4,
 "nbformat_minor": 5
}
